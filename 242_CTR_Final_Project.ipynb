{
  "nbformat": 4,
  "nbformat_minor": 0,
  "metadata": {
    "colab": {
      "name": "242 CTR Final Project.ipynb",
      "provenance": [],
      "collapsed_sections": [],
      "machine_shape": "hm"
    },
    "kernelspec": {
      "name": "python3",
      "display_name": "Python 3"
    }
  },
  "cells": [
    {
      "cell_type": "code",
      "metadata": {
        "id": "-gT0F9QdoBvV",
        "colab_type": "code",
        "outputId": "d49237e0-22f8-468c-e2e6-280664f379cc",
        "colab": {
          "base_uri": "https://localhost:8080/",
          "height": 71
        }
      },
      "source": [
        "import numpy as np\n",
        "import pandas as pd\n",
        "import gzip \n",
        "import random\n",
        "import seaborn as sns\n",
        "import matplotlib.pyplot as plt"
      ],
      "execution_count": 0,
      "outputs": [
        {
          "output_type": "stream",
          "text": [
            "/usr/local/lib/python3.6/dist-packages/statsmodels/tools/_testing.py:19: FutureWarning: pandas.util.testing is deprecated. Use the functions in the public API at pandas.testing instead.\n",
            "  import pandas.util.testing as tm\n"
          ],
          "name": "stderr"
        }
      ]
    },
    {
      "cell_type": "code",
      "metadata": {
        "id": "tuFqKhgSqYay",
        "colab_type": "code",
        "outputId": "6fb34582-3c30-45ad-92cf-560a4e3dec5d",
        "colab": {
          "base_uri": "https://localhost:8080/",
          "height": 275
        }
      },
      "source": [
        "# Install PyDrive and import relevant modules (no need to run twice)\n",
        "!pip install PyDrive\n",
        "from pydrive.auth import GoogleAuth\n",
        "from pydrive.drive import GoogleDrive\n",
        "from google.colab import auth\n",
        "from oauth2client.client import GoogleCredentials\n",
        "\n",
        "# Authenticate and create the PyDrive client (follow the instruction as followed)\n",
        "auth.authenticate_user()\n",
        "gauth = GoogleAuth()\n",
        "gauth.credentials = GoogleCredentials.get_application_default()\n",
        "drive = GoogleDrive(gauth)"
      ],
      "execution_count": 0,
      "outputs": [
        {
          "output_type": "stream",
          "text": [
            "Requirement already satisfied: PyDrive in /usr/local/lib/python3.6/dist-packages (1.3.1)\n",
            "Requirement already satisfied: PyYAML>=3.0 in /usr/local/lib/python3.6/dist-packages (from PyDrive) (3.13)\n",
            "Requirement already satisfied: oauth2client>=4.0.0 in /usr/local/lib/python3.6/dist-packages (from PyDrive) (4.1.3)\n",
            "Requirement already satisfied: google-api-python-client>=1.2 in /usr/local/lib/python3.6/dist-packages (from PyDrive) (1.7.12)\n",
            "Requirement already satisfied: six>=1.6.1 in /usr/local/lib/python3.6/dist-packages (from oauth2client>=4.0.0->PyDrive) (1.12.0)\n",
            "Requirement already satisfied: rsa>=3.1.4 in /usr/local/lib/python3.6/dist-packages (from oauth2client>=4.0.0->PyDrive) (4.0)\n",
            "Requirement already satisfied: pyasn1-modules>=0.0.5 in /usr/local/lib/python3.6/dist-packages (from oauth2client>=4.0.0->PyDrive) (0.2.8)\n",
            "Requirement already satisfied: httplib2>=0.9.1 in /usr/local/lib/python3.6/dist-packages (from oauth2client>=4.0.0->PyDrive) (0.17.3)\n",
            "Requirement already satisfied: pyasn1>=0.1.7 in /usr/local/lib/python3.6/dist-packages (from oauth2client>=4.0.0->PyDrive) (0.4.8)\n",
            "Requirement already satisfied: uritemplate<4dev,>=3.0.0 in /usr/local/lib/python3.6/dist-packages (from google-api-python-client>=1.2->PyDrive) (3.0.1)\n",
            "Requirement already satisfied: google-auth-httplib2>=0.0.3 in /usr/local/lib/python3.6/dist-packages (from google-api-python-client>=1.2->PyDrive) (0.0.3)\n",
            "Requirement already satisfied: google-auth>=1.4.1 in /usr/local/lib/python3.6/dist-packages (from google-api-python-client>=1.2->PyDrive) (1.7.2)\n",
            "Requirement already satisfied: cachetools<3.2,>=2.0.0 in /usr/local/lib/python3.6/dist-packages (from google-auth>=1.4.1->google-api-python-client>=1.2->PyDrive) (3.1.1)\n",
            "Requirement already satisfied: setuptools>=40.3.0 in /usr/local/lib/python3.6/dist-packages (from google-auth>=1.4.1->google-api-python-client>=1.2->PyDrive) (46.3.0)\n"
          ],
          "name": "stdout"
        }
      ]
    },
    {
      "cell_type": "code",
      "metadata": {
        "id": "FNw2uR40rg45",
        "colab_type": "code",
        "colab": {}
      },
      "source": [
        "# Get the file train.gz\n",
        "downloaded = drive.CreateFile({'id':\"12_xwryWPFZBnHIUPABQNWCYwY3GEpmeP\"})   # replace the id with id of file you want to access\n",
        "downloaded.GetContentFile('train.gz') \n",
        "# Get the file test.gz\n",
        "downloaded = drive.CreateFile({'id':\"196Qb40QHHOrGdk7m1c5DKXY1EIu7DX8R\"})   # replace the id with id of file you want to access\n",
        "downloaded.GetContentFile('test.gz') "
      ],
      "execution_count": 0,
      "outputs": []
    },
    {
      "cell_type": "code",
      "metadata": {
        "id": "lbM7i1jeHg1X",
        "colab_type": "code",
        "colab": {}
      },
      "source": [
        "# Set up sampling parameters and define data types\n",
        "n = 40428967  #total number of records in the clickstream data \n",
        "sample_size = 1000000\n",
        "skip_values = sorted(random.sample(range(1,n), n-sample_size)) \n",
        "\n",
        "types_train = {\n",
        "    'id': np.dtype(str),\n",
        "    'click': np.dtype(int),\n",
        "    'hour': np.dtype(int),\n",
        "    'C1': np.dtype(int),\n",
        "    'banner_pos': np.dtype(int),\n",
        "    'site_id': np.dtype(str),\n",
        "    'site_domain': np.dtype(str), \n",
        "    'site_category': np.dtype(str),\n",
        "    'app_id': np.dtype(str),\n",
        "    'app_domain': np.dtype(str),\n",
        "    'app_category': np.dtype(str),\n",
        "    'device_id': np.dtype(str),\n",
        "    'device_ip': np.dtype(str),\n",
        "    'device_model': np.dtype(str),\n",
        "    'device_type': np.dtype(int),\n",
        "    'device_conn_type': np.dtype(int),\n",
        "    'C14': np.dtype(int),\n",
        "    'C15': np.dtype(int),\n",
        "    'C16': np.dtype(int),\n",
        "    'C17': np.dtype(int),\n",
        "    'C18': np.dtype(int),\n",
        "    'C19': np.dtype(int),\n",
        "    'C20': np.dtype(int),\n",
        "    'C21':np.dtype(int)\n",
        "}\n",
        "types_test = {\n",
        "    'id': np.dtype(str),\n",
        "    'hour': np.dtype(int),\n",
        "    'C1': np.dtype(int),\n",
        "    'banner_pos': np.dtype(int),\n",
        "    'site_id': np.dtype(str),\n",
        "    'site_domain': np.dtype(str), \n",
        "    'site_category': np.dtype(str),\n",
        "    'app_id': np.dtype(str),\n",
        "    'app_domain': np.dtype(str),\n",
        "    'app_category': np.dtype(str),\n",
        "    'device_id': np.dtype(str),\n",
        "    'device_ip': np.dtype(str),\n",
        "    'device_model': np.dtype(str),\n",
        "    'device_type': np.dtype(int),\n",
        "    'device_conn_type': np.dtype(int),\n",
        "    'C14': np.dtype(int),\n",
        "    'C15': np.dtype(int),\n",
        "    'C16': np.dtype(int),\n",
        "    'C17': np.dtype(int),\n",
        "    'C18': np.dtype(int),\n",
        "    'C19': np.dtype(int),\n",
        "    'C20': np.dtype(int),\n",
        "    'C21':np.dtype(int)\n",
        "}"
      ],
      "execution_count": 0,
      "outputs": []
    },
    {
      "cell_type": "code",
      "metadata": {
        "id": "24VvciG9vICH",
        "colab_type": "code",
        "outputId": "99f068f8-7f5c-419c-ce36-4202da53a4c6",
        "colab": {
          "base_uri": "https://localhost:8080/",
          "height": 235
        }
      },
      "source": [
        "# Read train.gz data\n",
        "parse_date = lambda val : pd.datetime.strptime(val, '%y%m%d%H')\n",
        "with gzip.open('train.gz') as f:\n",
        "    train = pd.read_csv(f, parse_dates = ['hour'], date_parser = parse_date, dtype=types_train, skiprows = skip_values)\n",
        "    train.head()"
      ],
      "execution_count": 0,
      "outputs": [
        {
          "output_type": "error",
          "ename": "NameError",
          "evalue": "ignored",
          "traceback": [
            "\u001b[0;31m---------------------------------------------------------------------------\u001b[0m",
            "\u001b[0;31mNameError\u001b[0m                                 Traceback (most recent call last)",
            "\u001b[0;32m<ipython-input-1-c704d2cb1be1>\u001b[0m in \u001b[0;36m<module>\u001b[0;34m()\u001b[0m\n\u001b[1;32m      1\u001b[0m \u001b[0mparse_date\u001b[0m \u001b[0;34m=\u001b[0m \u001b[0;32mlambda\u001b[0m \u001b[0mval\u001b[0m \u001b[0;34m:\u001b[0m \u001b[0mpd\u001b[0m\u001b[0;34m.\u001b[0m\u001b[0mdatetime\u001b[0m\u001b[0;34m.\u001b[0m\u001b[0mstrptime\u001b[0m\u001b[0;34m(\u001b[0m\u001b[0mval\u001b[0m\u001b[0;34m,\u001b[0m \u001b[0;34m'%y%m%d%H'\u001b[0m\u001b[0;34m)\u001b[0m\u001b[0;34m\u001b[0m\u001b[0;34m\u001b[0m\u001b[0m\n\u001b[0;32m----> 2\u001b[0;31m \u001b[0;32mwith\u001b[0m \u001b[0mgzip\u001b[0m\u001b[0;34m.\u001b[0m\u001b[0mopen\u001b[0m\u001b[0;34m(\u001b[0m\u001b[0;34m'train.gz'\u001b[0m\u001b[0;34m)\u001b[0m \u001b[0;32mas\u001b[0m \u001b[0mf\u001b[0m\u001b[0;34m:\u001b[0m\u001b[0;34m\u001b[0m\u001b[0;34m\u001b[0m\u001b[0m\n\u001b[0m\u001b[1;32m      3\u001b[0m     \u001b[0mtrain\u001b[0m \u001b[0;34m=\u001b[0m \u001b[0mpd\u001b[0m\u001b[0;34m.\u001b[0m\u001b[0mread_csv\u001b[0m\u001b[0;34m(\u001b[0m\u001b[0mf\u001b[0m\u001b[0;34m,\u001b[0m \u001b[0mparse_dates\u001b[0m \u001b[0;34m=\u001b[0m \u001b[0;34m[\u001b[0m\u001b[0;34m'hour'\u001b[0m\u001b[0;34m]\u001b[0m\u001b[0;34m,\u001b[0m \u001b[0mdate_parser\u001b[0m \u001b[0;34m=\u001b[0m \u001b[0mparse_date\u001b[0m\u001b[0;34m,\u001b[0m \u001b[0mdtype\u001b[0m\u001b[0;34m=\u001b[0m\u001b[0mtypes_train\u001b[0m\u001b[0;34m,\u001b[0m \u001b[0mskiprows\u001b[0m \u001b[0;34m=\u001b[0m \u001b[0mskip_values\u001b[0m\u001b[0;34m)\u001b[0m\u001b[0;34m\u001b[0m\u001b[0;34m\u001b[0m\u001b[0m\n\u001b[1;32m      4\u001b[0m     \u001b[0mtrain\u001b[0m\u001b[0;34m.\u001b[0m\u001b[0mhead\u001b[0m\u001b[0;34m(\u001b[0m\u001b[0;34m)\u001b[0m\u001b[0;34m\u001b[0m\u001b[0;34m\u001b[0m\u001b[0m\n",
            "\u001b[0;31mNameError\u001b[0m: name 'gzip' is not defined"
          ]
        }
      ]
    },
    {
      "cell_type": "code",
      "metadata": {
        "id": "BDxtKNy0vPR0",
        "colab_type": "code",
        "outputId": "804f23ad-0a06-44df-c1c0-fb5d78a9bdcc",
        "colab": {
          "base_uri": "https://localhost:8080/",
          "height": 34
        }
      },
      "source": [
        "train.shape"
      ],
      "execution_count": 0,
      "outputs": [
        {
          "output_type": "execute_result",
          "data": {
            "text/plain": [
              "(1000000, 28)"
            ]
          },
          "metadata": {
            "tags": []
          },
          "execution_count": 9
        }
      ]
    },
    {
      "cell_type": "code",
      "metadata": {
        "id": "8rpgRT2SzaLA",
        "colab_type": "code",
        "outputId": "99edb92c-3ce9-47b7-b33b-b898e2b797fe",
        "colab": {
          "base_uri": "https://localhost:8080/",
          "height": 510
        }
      },
      "source": [
        "train.dtypes"
      ],
      "execution_count": 0,
      "outputs": [
        {
          "output_type": "execute_result",
          "data": {
            "text/plain": [
              "id                                object\n",
              "click                              int64\n",
              "hour                      datetime64[ns]\n",
              "banner_pos                         int64\n",
              "device_id                         object\n",
              "device_ip                         object\n",
              "device_model                      object\n",
              "device_type                        int64\n",
              "device_conn_type                   int64\n",
              "C1                                 int64\n",
              "C14                                int64\n",
              "C15                                int64\n",
              "C16                                int64\n",
              "C17                                int64\n",
              "C18                                int64\n",
              "C19                                int64\n",
              "C20                                int64\n",
              "C21                                int64\n",
              "hour_of_day                        int64\n",
              "day_of_week                       object\n",
              "pub_id                            object\n",
              "pub_domain                        object\n",
              "pub_category                      object\n",
              "device_id_count                    int64\n",
              "device_ip_count                    int64\n",
              "user_count                         int64\n",
              "smooth_user_hour_count             int64\n",
              "user_click_histroy               float64\n",
              "dtype: object"
            ]
          },
          "metadata": {
            "tags": []
          },
          "execution_count": 10
        }
      ]
    },
    {
      "cell_type": "code",
      "metadata": {
        "id": "jRKpzn5Pzc3Y",
        "colab_type": "code",
        "outputId": "90c3660f-c969-4abd-a4b7-fdf3ea7ed5eb",
        "colab": {
          "base_uri": "https://localhost:8080/",
          "height": 68
        }
      },
      "source": [
        "train['click'].value_counts()"
      ],
      "execution_count": 0,
      "outputs": [
        {
          "output_type": "execute_result",
          "data": {
            "text/plain": [
              "0    830545\n",
              "1    169455\n",
              "Name: click, dtype: int64"
            ]
          },
          "metadata": {
            "tags": []
          },
          "execution_count": 11
        }
      ]
    },
    {
      "cell_type": "code",
      "metadata": {
        "id": "12dHOw3b1mvw",
        "colab_type": "code",
        "outputId": "47ad80a5-5843-43b3-96d5-47596e7022a6",
        "colab": {
          "base_uri": "https://localhost:8080/",
          "height": 279
        }
      },
      "source": [
        "sns.countplot(x='click',data=train, palette='hls')\n",
        "plt.show();"
      ],
      "execution_count": 0,
      "outputs": [
        {
          "output_type": "display_data",
          "data": {
            "image/png": "[encoded data removed]",
            "text/plain": [
              "<Figure size 432x288 with 1 Axes>"
            ]
          },
          "metadata": {
            "tags": [],
            "needs_background": "light"
          }
        }
      ]
    },
    {
      "cell_type": "code",
      "metadata": {
        "id": "iPCvXPG31y88",
        "colab_type": "code",
        "outputId": "b532af8a-fbbf-4842-9924-fbbcd211e89a",
        "colab": {
          "base_uri": "https://localhost:8080/",
          "height": 68
        }
      },
      "source": [
        "train['click'].value_counts()/len(train)"
      ],
      "execution_count": 0,
      "outputs": [
        {
          "output_type": "execute_result",
          "data": {
            "text/plain": [
              "0    0.830094\n",
              "1    0.169906\n",
              "Name: click, dtype: float64"
            ]
          },
          "metadata": {
            "tags": []
          },
          "execution_count": 8
        }
      ]
    },
    {
      "cell_type": "code",
      "metadata": {
        "id": "I2qoiDph1-6j",
        "colab_type": "code",
        "outputId": "74d643e3-b4dc-4ea4-ed16-7dac314ec83e",
        "colab": {
          "base_uri": "https://localhost:8080/",
          "height": 136
        }
      },
      "source": [
        "train.hour.describe()"
      ],
      "execution_count": 0,
      "outputs": [
        {
          "output_type": "execute_result",
          "data": {
            "text/plain": [
              "count                 1000000\n",
              "unique                    240\n",
              "top       2014-10-22 09:00:00\n",
              "freq                    11045\n",
              "first     2014-10-21 00:00:00\n",
              "last      2014-10-30 23:00:00\n",
              "Name: hour, dtype: object"
            ]
          },
          "metadata": {
            "tags": []
          },
          "execution_count": 9
        }
      ]
    },
    {
      "cell_type": "code",
      "metadata": {
        "id": "WP-g4Uob2HHG",
        "colab_type": "code",
        "outputId": "5a9866a7-c2c0-4c7f-810a-bc6731c3d28c",
        "colab": {
          "base_uri": "https://localhost:8080/",
          "height": 427
        }
      },
      "source": [
        "train.groupby('hour').agg({'click':'sum'}).plot(figsize=(12,6))\n",
        "plt.ylabel('Number of clicks')\n",
        "plt.title('Number of clicks by hour');"
      ],
      "execution_count": 0,
      "outputs": [
        {
          "output_type": "display_data",
          "data": {
            "image/png": "[encoded data removed]",
            "text/plain": [
              "<Figure size 864x432 with 1 Axes>"
            ]
          },
          "metadata": {
            "tags": [],
            "needs_background": "light"
          }
        }
      ]
    },
    {
      "cell_type": "code",
      "metadata": {
        "id": "MMb1tpne7Oxa",
        "colab_type": "code",
        "outputId": "fc987f07-5f0f-4e9a-af56-5d9d07695835",
        "colab": {
          "base_uri": "https://localhost:8080/",
          "height": 405
        }
      },
      "source": [
        "train['hour_of_day'] = train.hour.apply(lambda x: x.hour)\n",
        "train.groupby('hour_of_day').agg({'click':'sum'}).plot(figsize=(12,6))\n",
        "plt.ylabel('Number of clicks')\n",
        "plt.title('click trends by hour of day');"
      ],
      "execution_count": 0,
      "outputs": [
        {
          "output_type": "display_data",
          "data": {
            "image/png": "[encoded data removed]",
            "text/plain": [
              "<Figure size 864x432 with 1 Axes>"
            ]
          },
          "metadata": {
            "tags": [],
            "needs_background": "light"
          }
        }
      ]
    },
    {
      "cell_type": "code",
      "metadata": {
        "id": "GTmE3DiO7WEx",
        "colab_type": "code",
        "outputId": "494368f1-89d4-4e4c-e2d9-5cdb1ee3636d",
        "colab": {
          "base_uri": "https://localhost:8080/",
          "height": 408
        }
      },
      "source": [
        "train.groupby(['hour_of_day', 'click']).size().unstack().plot(kind='bar', title=\"Hour of Day\", figsize=(12,6))\n",
        "plt.ylabel('count')\n",
        "plt.title('Hourly unclicked impressions vs. clicks');"
      ],
      "execution_count": 0,
      "outputs": [
        {
          "output_type": "display_data",
          "data": {
            "image/png": "[encoded data removed]",
            "text/plain": [
              "<Figure size 864x432 with 1 Axes>"
            ]
          },
          "metadata": {
            "tags": [],
            "needs_background": "light"
          }
        }
      ]
    },
    {
      "cell_type": "code",
      "metadata": {
        "id": "-2t9yyJk7QFU",
        "colab_type": "code",
        "outputId": "a3046e11-c241-4079-dbb7-a8485bb0d068",
        "colab": {
          "base_uri": "https://localhost:8080/",
          "height": 405
        }
      },
      "source": [
        "df_click = train[train['click'] == 1]\n",
        "df_hour = train[['hour_of_day','click']].groupby(['hour_of_day']).count().reset_index()\n",
        "df_hour = df_hour.rename(columns={'click': 'impressions'})\n",
        "df_hour['clicks'] = df_click[['hour_of_day','click']].groupby(['hour_of_day']).count().reset_index()['click']\n",
        "df_hour['CTR'] = df_hour['clicks']/df_hour['impressions']*100\n",
        "\n",
        "plt.figure(figsize=(12,6))\n",
        "sns.barplot(y='CTR', x='hour_of_day', data=df_hour)\n",
        "plt.title('Hourly CTR');"
      ],
      "execution_count": 0,
      "outputs": [
        {
          "output_type": "display_data",
          "data": {
            "image/png": "[encoded data removed]",
            "text/plain": [
              "<Figure size 864x432 with 1 Axes>"
            ]
          },
          "metadata": {
            "tags": [],
            "needs_background": "light"
          }
        }
      ]
    },
    {
      "cell_type": "code",
      "metadata": {
        "id": "UdpZbxmUT4Yv",
        "colab_type": "code",
        "outputId": "e799e19a-bce7-4824-8ac3-3d4d67bc8b55",
        "colab": {
          "base_uri": "https://localhost:8080/",
          "height": 405
        }
      },
      "source": [
        "train['day_of_week'] = train['hour'].apply(lambda val: val.day_name())\n",
        "cats = ['Monday', 'Tuesday', 'Wednesday', 'Thursday', 'Friday', 'Saturday', 'Sunday']\n",
        "train.groupby('day_of_week').agg({'click':'sum'}).reindex(cats).plot(figsize=(12,6))\n",
        "ticks = list(range(0, 7, 1)) # points on the x axis where you want the label to appear\n",
        "labels = \"Mon Tues Weds Thurs Fri Sat Sun\".split()\n",
        "plt.xticks(ticks, labels)\n",
        "plt.title('click trends by day of week');"
      ],
      "execution_count": 0,
      "outputs": [
        {
          "output_type": "display_data",
          "data": {
            "image/png": "[encoded data removed]",
            "text/plain": [
              "<Figure size 864x432 with 1 Axes>"
            ]
          },
          "metadata": {
            "tags": [],
            "needs_background": "light"
          }
        }
      ]
    },
    {
      "cell_type": "code",
      "metadata": {
        "id": "r4sVPBYcT5KU",
        "colab_type": "code",
        "colab": {}
      },
      "source": [
        ""
      ],
      "execution_count": 0,
      "outputs": []
    },
    {
      "cell_type": "code",
      "metadata": {
        "id": "7fkFFQCVT5HX",
        "colab_type": "code",
        "colab": {}
      },
      "source": [
        ""
      ],
      "execution_count": 0,
      "outputs": []
    },
    {
      "cell_type": "code",
      "metadata": {
        "id": "pEAW-aFLT5E6",
        "colab_type": "code",
        "colab": {}
      },
      "source": [
        ""
      ],
      "execution_count": 0,
      "outputs": []
    },
    {
      "cell_type": "code",
      "metadata": {
        "id": "_hLeE7PXT5By",
        "colab_type": "code",
        "colab": {}
      },
      "source": [
        ""
      ],
      "execution_count": 0,
      "outputs": []
    },
    {
      "cell_type": "code",
      "metadata": {
        "id": "ySYa8n4aT44Y",
        "colab_type": "code",
        "colab": {}
      },
      "source": [
        ""
      ],
      "execution_count": 0,
      "outputs": []
    },
    {
      "cell_type": "code",
      "metadata": {
        "id": "hgO6_eBcFdBI",
        "colab_type": "code",
        "colab": {}
      },
      "source": [
        "#####################.   Below is the feature engineering & new feature visualization & model training part #######################"
      ],
      "execution_count": 0,
      "outputs": []
    },
    {
      "cell_type": "code",
      "metadata": {
        "id": "g-DMKCYeWXWr",
        "colab_type": "code",
        "colab": {}
      },
      "source": [
        "# feature engineering\n",
        "import collections\n",
        "def scan(path):\n",
        "    for i, row in enumerate(csv.DictReader(open(path)), start=1):\n",
        "        if i % 1000000 == 0:\n",
        "            sys.stderr.write('{0:6.0f}    {1}m\\n'.format(time.time()-start,int(i/1000000)))\n",
        "\n",
        "        user = def_user(row)\n",
        "        id_cnt[row['device_id']] += 1\n",
        "        ip_cnt[row['device_ip']] += 1\n",
        "        user_cnt[user] += 1\n",
        "        user_hour_cnt[user+'-'+row['hour']] += 1\n",
        "\n",
        "history = collections.defaultdict(lambda: {'history': '', 'buffer': '', 'prev_hour': ''})\n",
        "\n",
        "def def_user(row):\n",
        "    \n",
        "    if row['device_id'] == 'a99f214a':\n",
        "        user = 'ip-' + row['device_ip'] + '-' + row['device_model']\n",
        "    else:\n",
        "        user = 'id-' + row['device_id']\n",
        "\n",
        "    return user\n",
        "\n",
        "def def_user_hour(row):\n",
        "    return def_user(row) + '-' + row['hour']\n",
        "\n",
        "def is_app(row):\n",
        "    \n",
        "    return True if row['site_id'] == '85f751fd' else False\n",
        "\n",
        "def gen_data(src_path, dst_app_path, dst_site_path, is_train):\n",
        "    reader = csv.DictReader(open(src_path))\n",
        "    writer_app = csv.DictWriter(open(dst_app_path, 'w'), NEW_FIELDS)\n",
        "    writer_site = csv.DictWriter(open(dst_site_path, 'w'), NEW_FIELDS)\n",
        "    writer_app.writeheader()\n",
        "    writer_site.writeheader()\n",
        "\n",
        "    for i, row in enumerate(reader, start=1):\n",
        "        if i % 1000000 == 0:\n",
        "            sys.stderr.write('{0:6.0f}    {1}m\\n'.format(time.time()-start,int(i/1000000)))\n",
        "        \n",
        "        new_row = {}\n",
        "        for field in FIELDS:\n",
        "            new_row[field] = row[field]\n",
        "\n",
        "        new_row['device_id_count'] = id_cnt[row['device_id']]\n",
        "        new_row['device_ip_count'] = ip_cnt[row['device_ip']]\n",
        "\n",
        "        user, hour = def_user(row), row['hour']\n",
        "        new_row['user_count'] = user_cnt[user]\n",
        "        new_row['smooth_user_hour_count'] = str(user_hour_cnt[user+'-'+hour])\n",
        "\n",
        "        if has_id_info(row):\n",
        "\n",
        "            if history[user]['prev_hour'] != row['hour']:\n",
        "                history[user]['history'] = (history[user]['history'] + history[user]['buffer'])[-4:]\n",
        "                history[user]['buffer'] = ''\n",
        "                history[user]['prev_hour'] = row['hour']\n",
        "\n",
        "            new_row['user_click_histroy'] = history[user]['history']\n",
        "\n",
        "            if is_train:\n",
        "                history[user]['buffer'] += row['click']\n",
        "        else:\n",
        "            new_row['user_click_histroy'] = ''\n",
        "\n",
        "        if is_app(row):\n",
        "            new_row['pub_id'] = row['app_id']\n",
        "            new_row['pub_domain'] = row['app_domain']\n",
        "            new_row['pub_category'] = row['app_category']\n",
        "            writer_app.writerow(new_row)\n",
        "        else:\n",
        "            new_row['pub_id'] = row['site_id']\n",
        "            new_row['pub_domain'] = row['site_domain']\n",
        "            new_row['pub_category'] = row['site_category']\n",
        "            writer_site.writerow(new_row)"
      ],
      "execution_count": 0,
      "outputs": []
    },
    {
      "cell_type": "code",
      "metadata": {
        "id": "jG_X5FqCV7dh",
        "colab_type": "code",
        "colab": {}
      },
      "source": [
        "# Get the file data.csv after feature engineering\n",
        "downloaded = drive.CreateFile({'id':\"1aaozhzuv1ostOue-vs2jQ4DAlySA37Jc\"})   # replace the id with id of file you want to access\n",
        "downloaded.GetContentFile('data.csv') "
      ],
      "execution_count": 0,
      "outputs": []
    },
    {
      "cell_type": "code",
      "metadata": {
        "id": "FXmvBaGeWAm9",
        "colab_type": "code",
        "colab": {}
      },
      "source": [
        "import numpy as np\n",
        "import pandas as pd\n",
        "import matplotlib.pyplot as plt\n",
        "types_data = {\n",
        "    'id': np.dtype(str),\n",
        "    'click': np.dtype(int),\n",
        "    'hour': np.dtype(int),\n",
        "    'banner_pos': np.dtype(str),\n",
        "    'device_id': np.dtype(str),\n",
        "    'device_ip': np.dtype(str),\n",
        "    'device_model': np.dtype(str),\n",
        "    'device_type': np.dtype(str),\n",
        "    'device_conn_type': np.dtype(str),\n",
        "    'C1': np.dtype(int),\n",
        "    'C14': np.dtype(int),\n",
        "    'C15': np.dtype(int),\n",
        "    'C16': np.dtype(int),\n",
        "    'C17': np.dtype(int),\n",
        "    'C18': np.dtype(int),\n",
        "    'C19': np.dtype(int),\n",
        "    'C20': np.dtype(int),\n",
        "    'C21':np.dtype(int),\n",
        "    'hour_of_day':np.dtype(str),\n",
        "    'day_of_week':np.dtype(str),\n",
        "    'pub_id': np.dtype(str),\n",
        "    'pub_domain': np.dtype(str), \n",
        "    'pub_category': np.dtype(str),\n",
        "    'device_id_count':np.dtype(int),\n",
        "    'device_ip_count':np.dtype(int),\n",
        "    'user_count':np.dtype(int),\n",
        "    'smooth_user_hour_count':np.dtype(int),\n",
        "    'user_click_history':np.dtype(str),\n",
        "}"
      ],
      "execution_count": 0,
      "outputs": []
    },
    {
      "cell_type": "code",
      "metadata": {
        "id": "3CasVZ_pWR3E",
        "colab_type": "code",
        "outputId": "3b194d7f-54b1-4e42-df47-1f5b261d748d",
        "colab": {
          "base_uri": "https://localhost:8080/",
          "height": 71
        }
      },
      "source": [
        "# Read train.csv data\n",
        "parse_date = lambda val : pd.datetime.strptime(val, '%y%m%d%H')\n",
        "with open('data.csv') as f:\n",
        "    data = pd.read_csv(f,parse_dates = ['hour'], date_parser = parse_date, dtype=types_data)"
      ],
      "execution_count": 0,
      "outputs": [
        {
          "output_type": "stream",
          "text": [
            "/usr/local/lib/python3.6/dist-packages/ipykernel_launcher.py:1: FutureWarning: The pandas.datetime class is deprecated and will be removed from pandas in a future version. Import from datetime instead.\n",
            "  \"\"\"Entry point for launching an IPython kernel.\n"
          ],
          "name": "stderr"
        }
      ]
    },
    {
      "cell_type": "code",
      "metadata": {
        "id": "MaJT4oJOzfkM",
        "colab_type": "code",
        "outputId": "c738c956-0d0f-445d-f1b8-c69021496f1d",
        "colab": {
          "base_uri": "https://localhost:8080/",
          "height": 394
        }
      },
      "source": [
        "data.head()"
      ],
      "execution_count": 0,
      "outputs": [
        {
          "output_type": "execute_result",
          "data": {
            "text/html": [
              "<div>\n",
              "<style scoped>\n",
              "    .dataframe tbody tr th:only-of-type {\n",
              "        vertical-align: middle;\n",
              "    }\n",
              "\n",
              "    .dataframe tbody tr th {\n",
              "        vertical-align: top;\n",
              "    }\n",
              "\n",
              "    .dataframe thead th {\n",
              "        text-align: right;\n",
              "    }\n",
              "</style>\n",
              "<table border=\"1\" class=\"dataframe\">\n",
              "  <thead>\n",
              "    <tr style=\"text-align: right;\">\n",
              "      <th></th>\n",
              "      <th>id</th>\n",
              "      <th>click</th>\n",
              "      <th>hour</th>\n",
              "      <th>banner_pos</th>\n",
              "      <th>device_id</th>\n",
              "      <th>device_ip</th>\n",
              "      <th>device_model</th>\n",
              "      <th>device_type</th>\n",
              "      <th>device_conn_type</th>\n",
              "      <th>C1</th>\n",
              "      <th>C14</th>\n",
              "      <th>C15</th>\n",
              "      <th>C16</th>\n",
              "      <th>C17</th>\n",
              "      <th>C18</th>\n",
              "      <th>C19</th>\n",
              "      <th>C20</th>\n",
              "      <th>C21</th>\n",
              "      <th>hour_of_day</th>\n",
              "      <th>day_of_week</th>\n",
              "      <th>pub_id</th>\n",
              "      <th>pub_domain</th>\n",
              "      <th>pub_category</th>\n",
              "      <th>device_id_count</th>\n",
              "      <th>device_ip_count</th>\n",
              "      <th>user_count</th>\n",
              "      <th>smooth_user_hour_count</th>\n",
              "      <th>user_click_history</th>\n",
              "    </tr>\n",
              "  </thead>\n",
              "  <tbody>\n",
              "    <tr>\n",
              "      <th>0</th>\n",
              "      <td>5625844144490291740</td>\n",
              "      <td>1</td>\n",
              "      <td>2014-10-23 06:00:00</td>\n",
              "      <td>1</td>\n",
              "      <td>a99f214a</td>\n",
              "      <td>dbd54f76</td>\n",
              "      <td>6e1e2240</td>\n",
              "      <td>1</td>\n",
              "      <td>0</td>\n",
              "      <td>1005</td>\n",
              "      <td>21153</td>\n",
              "      <td>320</td>\n",
              "      <td>50</td>\n",
              "      <td>2420</td>\n",
              "      <td>2</td>\n",
              "      <td>35</td>\n",
              "      <td>100188</td>\n",
              "      <td>69</td>\n",
              "      <td>6</td>\n",
              "      <td>Thursday</td>\n",
              "      <td>57fe1b20</td>\n",
              "      <td>5b626596</td>\n",
              "      <td>f028772b</td>\n",
              "      <td>924256</td>\n",
              "      <td>1</td>\n",
              "      <td>1</td>\n",
              "      <td>1</td>\n",
              "      <td>NaN</td>\n",
              "    </tr>\n",
              "    <tr>\n",
              "      <th>1</th>\n",
              "      <td>6228908776273355562</td>\n",
              "      <td>1</td>\n",
              "      <td>2014-10-22 04:00:00</td>\n",
              "      <td>0</td>\n",
              "      <td>a99f214a</td>\n",
              "      <td>c00916fb</td>\n",
              "      <td>4ea23a13</td>\n",
              "      <td>1</td>\n",
              "      <td>0</td>\n",
              "      <td>1005</td>\n",
              "      <td>21725</td>\n",
              "      <td>320</td>\n",
              "      <td>50</td>\n",
              "      <td>2502</td>\n",
              "      <td>0</td>\n",
              "      <td>35</td>\n",
              "      <td>100083</td>\n",
              "      <td>221</td>\n",
              "      <td>4</td>\n",
              "      <td>Wednesday</td>\n",
              "      <td>1fbe01fe</td>\n",
              "      <td>f3845767</td>\n",
              "      <td>28905ebd</td>\n",
              "      <td>924256</td>\n",
              "      <td>38</td>\n",
              "      <td>1</td>\n",
              "      <td>1</td>\n",
              "      <td>NaN</td>\n",
              "    </tr>\n",
              "    <tr>\n",
              "      <th>2</th>\n",
              "      <td>13646228992635606534</td>\n",
              "      <td>1</td>\n",
              "      <td>2014-10-22 10:00:00</td>\n",
              "      <td>0</td>\n",
              "      <td>a99f214a</td>\n",
              "      <td>0489ce3f</td>\n",
              "      <td>edead9f4</td>\n",
              "      <td>1</td>\n",
              "      <td>0</td>\n",
              "      <td>1005</td>\n",
              "      <td>15703</td>\n",
              "      <td>320</td>\n",
              "      <td>50</td>\n",
              "      <td>1722</td>\n",
              "      <td>0</td>\n",
              "      <td>35</td>\n",
              "      <td>-1</td>\n",
              "      <td>79</td>\n",
              "      <td>10</td>\n",
              "      <td>Wednesday</td>\n",
              "      <td>1fbe01fe</td>\n",
              "      <td>f3845767</td>\n",
              "      <td>28905ebd</td>\n",
              "      <td>924256</td>\n",
              "      <td>1906</td>\n",
              "      <td>9</td>\n",
              "      <td>1</td>\n",
              "      <td>NaN</td>\n",
              "    </tr>\n",
              "    <tr>\n",
              "      <th>3</th>\n",
              "      <td>14496404417797877012</td>\n",
              "      <td>0</td>\n",
              "      <td>2014-10-29 11:00:00</td>\n",
              "      <td>1</td>\n",
              "      <td>a99f214a</td>\n",
              "      <td>6394f6f6</td>\n",
              "      <td>c3f7117b</td>\n",
              "      <td>1</td>\n",
              "      <td>0</td>\n",
              "      <td>1005</td>\n",
              "      <td>23369</td>\n",
              "      <td>320</td>\n",
              "      <td>50</td>\n",
              "      <td>2680</td>\n",
              "      <td>3</td>\n",
              "      <td>815</td>\n",
              "      <td>100156</td>\n",
              "      <td>42</td>\n",
              "      <td>11</td>\n",
              "      <td>Wednesday</td>\n",
              "      <td>ce3307ec</td>\n",
              "      <td>7e091613</td>\n",
              "      <td>f028772b</td>\n",
              "      <td>924256</td>\n",
              "      <td>2104</td>\n",
              "      <td>138</td>\n",
              "      <td>4</td>\n",
              "      <td>NaN</td>\n",
              "    </tr>\n",
              "    <tr>\n",
              "      <th>4</th>\n",
              "      <td>2128862029846868642</td>\n",
              "      <td>1</td>\n",
              "      <td>2014-10-26 14:00:00</td>\n",
              "      <td>0</td>\n",
              "      <td>a99f214a</td>\n",
              "      <td>d139e860</td>\n",
              "      <td>0eb711ec</td>\n",
              "      <td>1</td>\n",
              "      <td>0</td>\n",
              "      <td>1005</td>\n",
              "      <td>20108</td>\n",
              "      <td>320</td>\n",
              "      <td>50</td>\n",
              "      <td>2299</td>\n",
              "      <td>2</td>\n",
              "      <td>1327</td>\n",
              "      <td>100084</td>\n",
              "      <td>52</td>\n",
              "      <td>14</td>\n",
              "      <td>Sunday</td>\n",
              "      <td>1fbe01fe</td>\n",
              "      <td>f3845767</td>\n",
              "      <td>28905ebd</td>\n",
              "      <td>924256</td>\n",
              "      <td>4</td>\n",
              "      <td>1</td>\n",
              "      <td>1</td>\n",
              "      <td>NaN</td>\n",
              "    </tr>\n",
              "  </tbody>\n",
              "</table>\n",
              "</div>"
            ],
            "text/plain": [
              "                     id  click  ... smooth_user_hour_count user_click_history\n",
              "0   5625844144490291740      1  ...                      1                NaN\n",
              "1   6228908776273355562      1  ...                      1                NaN\n",
              "2  13646228992635606534      1  ...                      1                NaN\n",
              "3  14496404417797877012      0  ...                      4                NaN\n",
              "4   2128862029846868642      1  ...                      1                NaN\n",
              "\n",
              "[5 rows x 28 columns]"
            ]
          },
          "metadata": {
            "tags": []
          },
          "execution_count": 31
        }
      ]
    },
    {
      "cell_type": "code",
      "metadata": {
        "id": "CwKDVy3CrjXC",
        "colab_type": "code",
        "outputId": "ee57db81-89b0-4342-f30a-28ddaf68800c",
        "colab": {
          "base_uri": "https://localhost:8080/",
          "height": 317
        }
      },
      "source": [
        "data.describe()"
      ],
      "execution_count": 0,
      "outputs": [
        {
          "output_type": "execute_result",
          "data": {
            "text/html": [
              "<div>\n",
              "<style scoped>\n",
              "    .dataframe tbody tr th:only-of-type {\n",
              "        vertical-align: middle;\n",
              "    }\n",
              "\n",
              "    .dataframe tbody tr th {\n",
              "        vertical-align: top;\n",
              "    }\n",
              "\n",
              "    .dataframe thead th {\n",
              "        text-align: right;\n",
              "    }\n",
              "</style>\n",
              "<table border=\"1\" class=\"dataframe\">\n",
              "  <thead>\n",
              "    <tr style=\"text-align: right;\">\n",
              "      <th></th>\n",
              "      <th>click</th>\n",
              "      <th>C1</th>\n",
              "      <th>C14</th>\n",
              "      <th>C15</th>\n",
              "      <th>C16</th>\n",
              "      <th>C17</th>\n",
              "      <th>C18</th>\n",
              "      <th>C19</th>\n",
              "      <th>C20</th>\n",
              "      <th>C21</th>\n",
              "      <th>device_id_count</th>\n",
              "      <th>device_ip_count</th>\n",
              "      <th>user_count</th>\n",
              "      <th>smooth_user_hour_count</th>\n",
              "    </tr>\n",
              "  </thead>\n",
              "  <tbody>\n",
              "    <tr>\n",
              "      <th>count</th>\n",
              "      <td>1000000.000000</td>\n",
              "      <td>1000000.000000</td>\n",
              "      <td>1000000.000000</td>\n",
              "      <td>1000000.000000</td>\n",
              "      <td>1000000.000000</td>\n",
              "      <td>1000000.000000</td>\n",
              "      <td>1000000.000000</td>\n",
              "      <td>1000000.000000</td>\n",
              "      <td>1000000.000000</td>\n",
              "      <td>1000000.000000</td>\n",
              "      <td>1000000.000000</td>\n",
              "      <td>1000000.000000</td>\n",
              "      <td>1000000.000000</td>\n",
              "      <td>1000000.000000</td>\n",
              "    </tr>\n",
              "    <tr>\n",
              "      <th>mean</th>\n",
              "      <td>0.169455</td>\n",
              "      <td>1004.967897</td>\n",
              "      <td>18839.741826</td>\n",
              "      <td>318.889360</td>\n",
              "      <td>60.098362</td>\n",
              "      <td>2112.435999</td>\n",
              "      <td>1.432945</td>\n",
              "      <td>226.959755</td>\n",
              "      <td>53217.607820</td>\n",
              "      <td>83.351003</td>\n",
              "      <td>762678.638068</td>\n",
              "      <td>138.408203</td>\n",
              "      <td>14.241894</td>\n",
              "      <td>1.400476</td>\n",
              "    </tr>\n",
              "    <tr>\n",
              "      <th>std</th>\n",
              "      <td>0.375153</td>\n",
              "      <td>1.095876</td>\n",
              "      <td>4959.775142</td>\n",
              "      <td>21.415965</td>\n",
              "      <td>47.272539</td>\n",
              "      <td>609.377917</td>\n",
              "      <td>1.326403</td>\n",
              "      <td>350.794208</td>\n",
              "      <td>49956.801943</td>\n",
              "      <td>70.242278</td>\n",
              "      <td>351042.355193</td>\n",
              "      <td>586.650360</td>\n",
              "      <td>81.546331</td>\n",
              "      <td>2.694119</td>\n",
              "    </tr>\n",
              "    <tr>\n",
              "      <th>min</th>\n",
              "      <td>0.000000</td>\n",
              "      <td>1001.000000</td>\n",
              "      <td>375.000000</td>\n",
              "      <td>120.000000</td>\n",
              "      <td>20.000000</td>\n",
              "      <td>112.000000</td>\n",
              "      <td>0.000000</td>\n",
              "      <td>33.000000</td>\n",
              "      <td>-1.000000</td>\n",
              "      <td>1.000000</td>\n",
              "      <td>1.000000</td>\n",
              "      <td>1.000000</td>\n",
              "      <td>1.000000</td>\n",
              "      <td>1.000000</td>\n",
              "    </tr>\n",
              "    <tr>\n",
              "      <th>25%</th>\n",
              "      <td>0.000000</td>\n",
              "      <td>1005.000000</td>\n",
              "      <td>16920.000000</td>\n",
              "      <td>320.000000</td>\n",
              "      <td>50.000000</td>\n",
              "      <td>1863.000000</td>\n",
              "      <td>0.000000</td>\n",
              "      <td>35.000000</td>\n",
              "      <td>-1.000000</td>\n",
              "      <td>23.000000</td>\n",
              "      <td>924256.000000</td>\n",
              "      <td>1.000000</td>\n",
              "      <td>1.000000</td>\n",
              "      <td>1.000000</td>\n",
              "    </tr>\n",
              "    <tr>\n",
              "      <th>50%</th>\n",
              "      <td>0.000000</td>\n",
              "      <td>1005.000000</td>\n",
              "      <td>20346.000000</td>\n",
              "      <td>320.000000</td>\n",
              "      <td>50.000000</td>\n",
              "      <td>2323.000000</td>\n",
              "      <td>2.000000</td>\n",
              "      <td>39.000000</td>\n",
              "      <td>100049.000000</td>\n",
              "      <td>61.000000</td>\n",
              "      <td>924256.000000</td>\n",
              "      <td>2.000000</td>\n",
              "      <td>1.000000</td>\n",
              "      <td>1.000000</td>\n",
              "    </tr>\n",
              "    <tr>\n",
              "      <th>75%</th>\n",
              "      <td>0.000000</td>\n",
              "      <td>1005.000000</td>\n",
              "      <td>21894.000000</td>\n",
              "      <td>320.000000</td>\n",
              "      <td>50.000000</td>\n",
              "      <td>2526.000000</td>\n",
              "      <td>3.000000</td>\n",
              "      <td>171.000000</td>\n",
              "      <td>100094.000000</td>\n",
              "      <td>101.000000</td>\n",
              "      <td>924256.000000</td>\n",
              "      <td>10.000000</td>\n",
              "      <td>2.000000</td>\n",
              "      <td>1.000000</td>\n",
              "    </tr>\n",
              "    <tr>\n",
              "      <th>max</th>\n",
              "      <td>1.000000</td>\n",
              "      <td>1012.000000</td>\n",
              "      <td>24043.000000</td>\n",
              "      <td>1024.000000</td>\n",
              "      <td>1024.000000</td>\n",
              "      <td>2757.000000</td>\n",
              "      <td>3.000000</td>\n",
              "      <td>1839.000000</td>\n",
              "      <td>100248.000000</td>\n",
              "      <td>255.000000</td>\n",
              "      <td>924256.000000</td>\n",
              "      <td>5560.000000</td>\n",
              "      <td>924.000000</td>\n",
              "      <td>161.000000</td>\n",
              "    </tr>\n",
              "  </tbody>\n",
              "</table>\n",
              "</div>"
            ],
            "text/plain": [
              "                click              C1  ...      user_count  smooth_user_hour_count\n",
              "count  1000000.000000  1000000.000000  ...  1000000.000000          1000000.000000\n",
              "mean         0.169455     1004.967897  ...       14.241894                1.400476\n",
              "std          0.375153        1.095876  ...       81.546331                2.694119\n",
              "min          0.000000     1001.000000  ...        1.000000                1.000000\n",
              "25%          0.000000     1005.000000  ...        1.000000                1.000000\n",
              "50%          0.000000     1005.000000  ...        1.000000                1.000000\n",
              "75%          0.000000     1005.000000  ...        2.000000                1.000000\n",
              "max          1.000000     1012.000000  ...      924.000000              161.000000\n",
              "\n",
              "[8 rows x 14 columns]"
            ]
          },
          "metadata": {
            "tags": []
          },
          "execution_count": 32
        }
      ]
    },
    {
      "cell_type": "code",
      "metadata": {
        "id": "EbiglTRGrjyd",
        "colab_type": "code",
        "outputId": "cf244683-ed29-40c6-8b11-a26fa90667b7",
        "colab": {
          "base_uri": "https://localhost:8080/",
          "height": 748
        }
      },
      "source": [
        "print(data.device_id_count.value_counts()/len(data))"
      ],
      "execution_count": 0,
      "outputs": [
        {
          "output_type": "stream",
          "text": [
            "924256    0.825180\n",
            "1         0.135475\n",
            "2         0.020805\n",
            "3         0.006451\n",
            "4         0.003095\n",
            "5         0.001626\n",
            "6         0.001008\n",
            "7         0.000786\n",
            "536       0.000536\n",
            "525       0.000525\n",
            "9         0.000513\n",
            "8         0.000489\n",
            "11        0.000313\n",
            "324       0.000308\n",
            "10        0.000268\n",
            "296       0.000242\n",
            "13        0.000226\n",
            "12        0.000225\n",
            "16        0.000222\n",
            "102       0.000194\n",
            "15        0.000159\n",
            "20        0.000120\n",
            "19        0.000110\n",
            "105       0.000098\n",
            "98        0.000095\n",
            "99        0.000091\n",
            "85        0.000085\n",
            "24        0.000072\n",
            "18        0.000072\n",
            "23        0.000068\n",
            "17        0.000061\n",
            "14        0.000061\n",
            "70        0.000061\n",
            "30        0.000060\n",
            "25        0.000048\n",
            "22        0.000044\n",
            "54        0.000043\n",
            "40        0.000040\n",
            "35        0.000035\n",
            "31        0.000031\n",
            "38        0.000030\n",
            "29        0.000029\n",
            "Name: device_id_count, dtype: float64\n"
          ],
          "name": "stdout"
        }
      ]
    },
    {
      "cell_type": "code",
      "metadata": {
        "id": "zg7-eDQArmW2",
        "colab_type": "code",
        "outputId": "b9208e92-82b5-45d9-8f70-7e169567d746",
        "colab": {
          "base_uri": "https://localhost:8080/",
          "height": 408
        }
      },
      "source": [
        "top10_device_ip = data[(data.device_ip_count.isin((data.device_ip_count.value_counts()/len(data))[0:10].index))]\n",
        "top10_device_ip.groupby(['device_ip_count', 'click']).size().unstack().plot(kind='bar', title=\"Hour of Day\", figsize=(12,6))\n",
        "plt.ylabel('count')\n",
        "plt.title('device_ip_count vs. clicks');"
      ],
      "execution_count": 0,
      "outputs": [
        {
          "output_type": "display_data",
          "data": {
            "image/png": "[encoded data removed]",
            "text/plain": [
              "<Figure size 864x432 with 1 Axes>"
            ]
          },
          "metadata": {
            "tags": [],
            "needs_background": "light"
          }
        }
      ]
    },
    {
      "cell_type": "code",
      "metadata": {
        "id": "KlAK-UIDrodn",
        "colab_type": "code",
        "outputId": "5e4f21ed-9e91-42c1-f7f1-7ebdbcee5a2f",
        "colab": {
          "base_uri": "https://localhost:8080/",
          "height": 312
        }
      },
      "source": [
        "device_ip_count_2_11 = data[(data.device_ip_count.isin((data.device_ip_count.value_counts()/len(data))[1:50].index))]\n",
        "device_ip_count_2_11 = device_ip_count_2_11.groupby(['device_ip_count','click']).size().unstack()\n",
        "device_ip_count_2_11.div(device_ip_count_2_11.sum(axis=1), axis=0).plot(kind='bar', stacked=True, title=\"device_ip_count CTR\");"
      ],
      "execution_count": 0,
      "outputs": [
        {
          "output_type": "display_data",
          "data": {
            "image/png": "[encoded data removed]",
            "text/plain": [
              "<Figure size 432x288 with 1 Axes>"
            ]
          },
          "metadata": {
            "tags": [],
            "needs_background": "light"
          }
        }
      ]
    },
    {
      "cell_type": "code",
      "metadata": {
        "id": "CFLl9rcQrp9w",
        "colab_type": "code",
        "outputId": "64d0bd2a-c7cc-43ae-9657-ef7075c32186",
        "colab": {
          "base_uri": "https://localhost:8080/",
          "height": 221
        }
      },
      "source": [
        "print(data.user_count.value_counts()/len(data))"
      ],
      "execution_count": 0,
      "outputs": [
        {
          "output_type": "stream",
          "text": [
            "1      0.670037\n",
            "2      0.125250\n",
            "3      0.048384\n",
            "4      0.025160\n",
            "5      0.015222\n",
            "         ...   \n",
            "114    0.000093\n",
            "118    0.000093\n",
            "91     0.000090\n",
            "101    0.000086\n",
            "117    0.000075\n",
            "Name: user_count, Length: 188, dtype: float64\n"
          ],
          "name": "stdout"
        }
      ]
    },
    {
      "cell_type": "code",
      "metadata": {
        "id": "s4GooHEtrrjU",
        "colab_type": "code",
        "outputId": "ad4c2bf6-52b7-4e99-a7e9-6d60273cf6e1",
        "colab": {
          "base_uri": "https://localhost:8080/",
          "height": 407
        }
      },
      "source": [
        "user_count_2_11 = data[(data.user_count.isin((data.user_count.value_counts()/len(data))[1:11].index))]\n",
        "user_count_2_11.groupby(['user_count', 'click']).size().unstack().plot(kind='bar', figsize=(12,6), title='user_count histogram');"
      ],
      "execution_count": 0,
      "outputs": [
        {
          "output_type": "display_data",
          "data": {
            "image/png": "[encoded data removed]",
            "text/plain": [
              "<Figure size 864x432 with 1 Axes>"
            ]
          },
          "metadata": {
            "tags": [],
            "needs_background": "light"
          }
        }
      ]
    },
    {
      "cell_type": "code",
      "metadata": {
        "id": "4NXqYjnRrs-w",
        "colab_type": "code",
        "outputId": "774d2d16-4ca4-4945-bc8e-1fe72056791e",
        "colab": {
          "base_uri": "https://localhost:8080/",
          "height": 305
        }
      },
      "source": [
        "user_count_2_11 = data[(data.user_count.isin((data.user_count.value_counts()/len(data))[0:50].index))]\n",
        "user_count_2_11 = user_count_2_11.groupby(['user_count','click']).size().unstack()\n",
        "user_count_2_11.div(user_count_2_11.sum(axis=1), axis=0).plot(kind='bar', stacked=True, title=\"user_count CTR\");"
      ],
      "execution_count": 0,
      "outputs": [
        {
          "output_type": "display_data",
          "data": {
            "image/png": "[encoded data removed]",
            "text/plain": [
              "<Figure size 432x288 with 1 Axes>"
            ]
          },
          "metadata": {
            "tags": [],
            "needs_background": "light"
          }
        }
      ]
    },
    {
      "cell_type": "code",
      "metadata": {
        "id": "HeEUcx-9ruSJ",
        "colab_type": "code",
        "outputId": "7c2c47b6-b3f3-4141-fec5-0271375f3f90",
        "colab": {
          "base_uri": "https://localhost:8080/",
          "height": 680
        }
      },
      "source": [
        "print(data.smooth_user_hour_count.value_counts()/len(data))"
      ],
      "execution_count": 0,
      "outputs": [
        {
          "output_type": "stream",
          "text": [
            "1      0.867980\n",
            "2      0.076440\n",
            "3      0.019848\n",
            "4      0.009304\n",
            "5      0.005635\n",
            "6      0.004188\n",
            "7      0.002933\n",
            "8      0.002504\n",
            "9      0.001710\n",
            "10     0.001440\n",
            "11     0.001375\n",
            "12     0.000972\n",
            "13     0.000884\n",
            "14     0.000616\n",
            "15     0.000615\n",
            "16     0.000544\n",
            "17     0.000391\n",
            "19     0.000323\n",
            "20     0.000260\n",
            "18     0.000252\n",
            "22     0.000220\n",
            "21     0.000210\n",
            "161    0.000161\n",
            "23     0.000138\n",
            "24     0.000120\n",
            "26     0.000104\n",
            "34     0.000102\n",
            "25     0.000100\n",
            "30     0.000090\n",
            "29     0.000087\n",
            "27     0.000081\n",
            "36     0.000072\n",
            "35     0.000070\n",
            "28     0.000056\n",
            "52     0.000052\n",
            "50     0.000050\n",
            "42     0.000042\n",
            "31     0.000031\n",
            "Name: smooth_user_hour_count, dtype: float64\n"
          ],
          "name": "stdout"
        }
      ]
    },
    {
      "cell_type": "code",
      "metadata": {
        "id": "dDp2Q8lcrv8T",
        "colab_type": "code",
        "outputId": "5d8dc91d-2ec6-4969-df99-f6e2b1176e8e",
        "colab": {
          "base_uri": "https://localhost:8080/",
          "height": 305
        }
      },
      "source": [
        "smooth_user_hour_count_2_11 = data[(data.smooth_user_hour_count.isin((data.smooth_user_hour_count.value_counts()/len(data))[1:50].index))]\n",
        "smooth_user_hour_count_2_11 = smooth_user_hour_count_2_11.groupby(['smooth_user_hour_count','click']).size().unstack()\n",
        "smooth_user_hour_count_2_11.div(smooth_user_hour_count_2_11.sum(axis=1), axis=0).plot(kind='bar', stacked=True, title=\"smooth_user_hour CTR\");"
      ],
      "execution_count": 0,
      "outputs": [
        {
          "output_type": "display_data",
          "data": {
            "image/png": "[encoded data removed]",
            "text/plain": [
              "<Figure size 432x288 with 1 Axes>"
            ]
          },
          "metadata": {
            "tags": [],
            "needs_background": "light"
          }
        }
      ]
    },
    {
      "cell_type": "code",
      "metadata": {
        "id": "rR2TtXhtrxNA",
        "colab_type": "code",
        "outputId": "7a9c4e63-3bdd-4475-d7e4-7c5b262c531a",
        "colab": {
          "base_uri": "https://localhost:8080/",
          "height": 544
        }
      },
      "source": [
        "print(data.user_click_history.value_counts()/len(data)) # get rid of null"
      ],
      "execution_count": 0,
      "outputs": [
        {
          "output_type": "stream",
          "text": [
            "0       0.009718\n",
            "0000    0.003283\n",
            "00      0.002720\n",
            "000     0.001196\n",
            "1       0.001097\n",
            "1111    0.000278\n",
            "01      0.000219\n",
            "10      0.000202\n",
            "0001    0.000163\n",
            "0010    0.000158\n",
            "1000    0.000154\n",
            "0100    0.000149\n",
            "0111    0.000125\n",
            "1110    0.000124\n",
            "1011    0.000122\n",
            "1101    0.000113\n",
            "0101    0.000090\n",
            "1010    0.000088\n",
            "0110    0.000080\n",
            "0011    0.000076\n",
            "1001    0.000074\n",
            "1100    0.000069\n",
            "11      0.000064\n",
            "010     0.000063\n",
            "100     0.000056\n",
            "001     0.000049\n",
            "101     0.000025\n",
            "011     0.000023\n",
            "111     0.000013\n",
            "110     0.000009\n",
            "Name: user_click_history, dtype: float64\n"
          ],
          "name": "stdout"
        }
      ]
    },
    {
      "cell_type": "code",
      "metadata": {
        "id": "2vyNf7KFrykw",
        "colab_type": "code",
        "outputId": "47c5d881-7e0f-4ce8-cae3-ff39b96906d5",
        "colab": {
          "base_uri": "https://localhost:8080/",
          "height": 317
        }
      },
      "source": [
        "data.describe()"
      ],
      "execution_count": 0,
      "outputs": [
        {
          "output_type": "execute_result",
          "data": {
            "text/html": [
              "<div>\n",
              "<style scoped>\n",
              "    .dataframe tbody tr th:only-of-type {\n",
              "        vertical-align: middle;\n",
              "    }\n",
              "\n",
              "    .dataframe tbody tr th {\n",
              "        vertical-align: top;\n",
              "    }\n",
              "\n",
              "    .dataframe thead th {\n",
              "        text-align: right;\n",
              "    }\n",
              "</style>\n",
              "<table border=\"1\" class=\"dataframe\">\n",
              "  <thead>\n",
              "    <tr style=\"text-align: right;\">\n",
              "      <th></th>\n",
              "      <th>click</th>\n",
              "      <th>C1</th>\n",
              "      <th>C14</th>\n",
              "      <th>C15</th>\n",
              "      <th>C16</th>\n",
              "      <th>C17</th>\n",
              "      <th>C18</th>\n",
              "      <th>C19</th>\n",
              "      <th>C20</th>\n",
              "      <th>C21</th>\n",
              "      <th>device_id_count</th>\n",
              "      <th>device_ip_count</th>\n",
              "      <th>user_count</th>\n",
              "      <th>smooth_user_hour_count</th>\n",
              "    </tr>\n",
              "  </thead>\n",
              "  <tbody>\n",
              "    <tr>\n",
              "      <th>count</th>\n",
              "      <td>1000000.000000</td>\n",
              "      <td>1000000.000000</td>\n",
              "      <td>1000000.000000</td>\n",
              "      <td>1000000.000000</td>\n",
              "      <td>1000000.000000</td>\n",
              "      <td>1000000.000000</td>\n",
              "      <td>1000000.000000</td>\n",
              "      <td>1000000.000000</td>\n",
              "      <td>1000000.000000</td>\n",
              "      <td>1000000.000000</td>\n",
              "      <td>1000000.000000</td>\n",
              "      <td>1000000.000000</td>\n",
              "      <td>1000000.000000</td>\n",
              "      <td>1000000.000000</td>\n",
              "    </tr>\n",
              "    <tr>\n",
              "      <th>mean</th>\n",
              "      <td>0.169455</td>\n",
              "      <td>1004.967897</td>\n",
              "      <td>18839.741826</td>\n",
              "      <td>318.889360</td>\n",
              "      <td>60.098362</td>\n",
              "      <td>2112.435999</td>\n",
              "      <td>1.432945</td>\n",
              "      <td>226.959755</td>\n",
              "      <td>53217.607820</td>\n",
              "      <td>83.351003</td>\n",
              "      <td>762678.638068</td>\n",
              "      <td>138.408203</td>\n",
              "      <td>14.241894</td>\n",
              "      <td>1.400476</td>\n",
              "    </tr>\n",
              "    <tr>\n",
              "      <th>std</th>\n",
              "      <td>0.375153</td>\n",
              "      <td>1.095876</td>\n",
              "      <td>4959.775142</td>\n",
              "      <td>21.415965</td>\n",
              "      <td>47.272539</td>\n",
              "      <td>609.377917</td>\n",
              "      <td>1.326403</td>\n",
              "      <td>350.794208</td>\n",
              "      <td>49956.801943</td>\n",
              "      <td>70.242278</td>\n",
              "      <td>351042.355193</td>\n",
              "      <td>586.650360</td>\n",
              "      <td>81.546331</td>\n",
              "      <td>2.694119</td>\n",
              "    </tr>\n",
              "    <tr>\n",
              "      <th>min</th>\n",
              "      <td>0.000000</td>\n",
              "      <td>1001.000000</td>\n",
              "      <td>375.000000</td>\n",
              "      <td>120.000000</td>\n",
              "      <td>20.000000</td>\n",
              "      <td>112.000000</td>\n",
              "      <td>0.000000</td>\n",
              "      <td>33.000000</td>\n",
              "      <td>-1.000000</td>\n",
              "      <td>1.000000</td>\n",
              "      <td>1.000000</td>\n",
              "      <td>1.000000</td>\n",
              "      <td>1.000000</td>\n",
              "      <td>1.000000</td>\n",
              "    </tr>\n",
              "    <tr>\n",
              "      <th>25%</th>\n",
              "      <td>0.000000</td>\n",
              "      <td>1005.000000</td>\n",
              "      <td>16920.000000</td>\n",
              "      <td>320.000000</td>\n",
              "      <td>50.000000</td>\n",
              "      <td>1863.000000</td>\n",
              "      <td>0.000000</td>\n",
              "      <td>35.000000</td>\n",
              "      <td>-1.000000</td>\n",
              "      <td>23.000000</td>\n",
              "      <td>924256.000000</td>\n",
              "      <td>1.000000</td>\n",
              "      <td>1.000000</td>\n",
              "      <td>1.000000</td>\n",
              "    </tr>\n",
              "    <tr>\n",
              "      <th>50%</th>\n",
              "      <td>0.000000</td>\n",
              "      <td>1005.000000</td>\n",
              "      <td>20346.000000</td>\n",
              "      <td>320.000000</td>\n",
              "      <td>50.000000</td>\n",
              "      <td>2323.000000</td>\n",
              "      <td>2.000000</td>\n",
              "      <td>39.000000</td>\n",
              "      <td>100049.000000</td>\n",
              "      <td>61.000000</td>\n",
              "      <td>924256.000000</td>\n",
              "      <td>2.000000</td>\n",
              "      <td>1.000000</td>\n",
              "      <td>1.000000</td>\n",
              "    </tr>\n",
              "    <tr>\n",
              "      <th>75%</th>\n",
              "      <td>0.000000</td>\n",
              "      <td>1005.000000</td>\n",
              "      <td>21894.000000</td>\n",
              "      <td>320.000000</td>\n",
              "      <td>50.000000</td>\n",
              "      <td>2526.000000</td>\n",
              "      <td>3.000000</td>\n",
              "      <td>171.000000</td>\n",
              "      <td>100094.000000</td>\n",
              "      <td>101.000000</td>\n",
              "      <td>924256.000000</td>\n",
              "      <td>10.000000</td>\n",
              "      <td>2.000000</td>\n",
              "      <td>1.000000</td>\n",
              "    </tr>\n",
              "    <tr>\n",
              "      <th>max</th>\n",
              "      <td>1.000000</td>\n",
              "      <td>1012.000000</td>\n",
              "      <td>24043.000000</td>\n",
              "      <td>1024.000000</td>\n",
              "      <td>1024.000000</td>\n",
              "      <td>2757.000000</td>\n",
              "      <td>3.000000</td>\n",
              "      <td>1839.000000</td>\n",
              "      <td>100248.000000</td>\n",
              "      <td>255.000000</td>\n",
              "      <td>924256.000000</td>\n",
              "      <td>5560.000000</td>\n",
              "      <td>924.000000</td>\n",
              "      <td>161.000000</td>\n",
              "    </tr>\n",
              "  </tbody>\n",
              "</table>\n",
              "</div>"
            ],
            "text/plain": [
              "                click              C1  ...      user_count  smooth_user_hour_count\n",
              "count  1000000.000000  1000000.000000  ...  1000000.000000          1000000.000000\n",
              "mean         0.169455     1004.967897  ...       14.241894                1.400476\n",
              "std          0.375153        1.095876  ...       81.546331                2.694119\n",
              "min          0.000000     1001.000000  ...        1.000000                1.000000\n",
              "25%          0.000000     1005.000000  ...        1.000000                1.000000\n",
              "50%          0.000000     1005.000000  ...        1.000000                1.000000\n",
              "75%          0.000000     1005.000000  ...        2.000000                1.000000\n",
              "max          1.000000     1012.000000  ...      924.000000              161.000000\n",
              "\n",
              "[8 rows x 14 columns]"
            ]
          },
          "metadata": {
            "tags": []
          },
          "execution_count": 42
        }
      ]
    },
    {
      "cell_type": "code",
      "metadata": {
        "id": "qDxMmjR4sFYr",
        "colab_type": "code",
        "colab": {}
      },
      "source": [
        "# hash int conversion\n",
        "def convert_obj_to_int(self):\n",
        "    \n",
        "    object_list_columns = self.columns\n",
        "    object_list_dtypes = self.dtypes\n",
        "    new_col_suffix = '_int'\n",
        "    for index in range(0,len(object_list_columns)):\n",
        "        if object_list_dtypes[index] == object :\n",
        "            self[object_list_columns[index]+new_col_suffix] = self[object_list_columns[index]].map( lambda  x: hash(x) % 1000000)\n",
        "            self.drop([object_list_columns[index]],inplace=True,axis=1)\n",
        "    return self\n",
        "data = convert_obj_to_int(data)"
      ],
      "execution_count": 0,
      "outputs": []
    },
    {
      "cell_type": "code",
      "metadata": {
        "id": "FDHJibrEsLqm",
        "colab_type": "code",
        "outputId": "febc07f2-8a4f-4640-999d-44a4e82f7a8e",
        "colab": {
          "base_uri": "https://localhost:8080/",
          "height": 510
        }
      },
      "source": [
        "data.dtypes"
      ],
      "execution_count": 0,
      "outputs": [
        {
          "output_type": "execute_result",
          "data": {
            "text/plain": [
              "click                              int64\n",
              "hour                      datetime64[ns]\n",
              "C1                                 int64\n",
              "C14                                int64\n",
              "C15                                int64\n",
              "C16                                int64\n",
              "C17                                int64\n",
              "C18                                int64\n",
              "C19                                int64\n",
              "C20                                int64\n",
              "C21                                int64\n",
              "device_id_count                    int64\n",
              "device_ip_count                    int64\n",
              "user_count                         int64\n",
              "smooth_user_hour_count             int64\n",
              "user_click_histroy               float64\n",
              "id_int                             int64\n",
              "banner_pos_int                     int64\n",
              "device_id_int                      int64\n",
              "device_ip_int                      int64\n",
              "device_model_int                   int64\n",
              "device_type_int                    int64\n",
              "device_conn_type_int               int64\n",
              "hour_of_day_int                    int64\n",
              "day_of_week_int                    int64\n",
              "pub_id_int                         int64\n",
              "pub_domain_int                     int64\n",
              "pub_category_int                   int64\n",
              "dtype: object"
            ]
          },
          "metadata": {
            "tags": []
          },
          "execution_count": 21
        }
      ]
    },
    {
      "cell_type": "code",
      "metadata": {
        "id": "uX5NxUhesQCa",
        "colab_type": "code",
        "outputId": "86ff4094-f81e-4b63-da5c-fb4744bc29fe",
        "colab": {
          "base_uri": "https://localhost:8080/",
          "height": 51
        }
      },
      "source": [
        "# remove original hour and id from the data\n",
        "y = data.click\n",
        "data.drop('hour', axis=1, inplace=True)\n",
        "data.drop('id_int', axis=1, inplace=True)\n",
        "data.drop('click', axis=1, inplace=True)\n",
        "\n",
        "# split train and test dataset\n",
        "from sklearn.model_selection import train_test_split\n",
        "X_train, X_test, y_train, y_test = train_test_split(data, y, test_size=0.2, random_state=666)\n",
        "print('For train, proportion of label 1: ', len(y_train[y_train == 1])/len(y_train))\n",
        "print('For test, proportion of label 1: ', len(y_test[y_test == 1])/len(y_test))"
      ],
      "execution_count": 0,
      "outputs": [
        {
          "output_type": "stream",
          "text": [
            "For train, proportion of label 1:  0.16947875\n",
            "For test, proportion of label 1:  0.16936\n"
          ],
          "name": "stdout"
        }
      ]
    },
    {
      "cell_type": "code",
      "metadata": {
        "id": "MrNrwS8rsSI_",
        "colab_type": "code",
        "colab": {}
      },
      "source": [
        "# evaluation matrics\n",
        "from sklearn import metrics\n",
        "def get_metric(clf, X, y_true):\n",
        "    y_pred = clf.predict(X)\n",
        "    y_proba = clf.predict_proba(X)\n",
        "\n",
        "    acc = metrics.accuracy_score(y_true, y_pred)\n",
        "    p = metrics.precision_score(y_true, y_pred)\n",
        "    r = metrics.recall_score(y_true, y_pred)\n",
        "    f1 = metrics.f1_score(y_true, y_pred)\n",
        "    fpr, tpr, thresholds = metrics.roc_curve(y_true, y_proba[:, 1])\n",
        "    auc = metrics.auc(fpr, tpr)\n",
        "    return acc, p, r, f1, fpr, tpr, auc"
      ],
      "execution_count": 0,
      "outputs": []
    },
    {
      "cell_type": "code",
      "metadata": {
        "id": "0me30vwusULT",
        "colab_type": "code",
        "colab": {}
      },
      "source": [
        "# Build models\n",
        "from sklearn.linear_model import LogisticRegressionCV\n",
        "from sklearn.ensemble import RandomForestClassifier, GradientBoostingClassifier, AdaBoostClassifier\n",
        "\n",
        "import lightgbm as lgb\n",
        "from xgboost import XGBClassifier\n",
        "lr_model = LogisticRegressionCV(class_weight='balanced', cv=5, max_iter=1000)\n",
        "rf_model = RandomForestClassifier(class_weight='balanced', n_estimators=100)\n",
        "gbdt_model = GradientBoostingClassifier(n_estimators=100, learning_rate=0.08)\n",
        "xg_model = XGBClassifier(n_estimators=100,learning_rate=0.08,subsample=0.8,colsample_bytree=0.8,max_depth=5)\n",
        "lgb_model = lgb.LGBMClassifier(n_estimators=100, learning_rate=0.08)\n",
        "adb_model = AdaBoostClassifier( n_estimators = 100, random_state = 0)\n",
        "\n",
        "models = {'LR': lr_model,\n",
        "          'RF': rf_model,\n",
        "          'GBDT': gbdt_model,\n",
        "          'XGBoost': xg_model,\n",
        "          'LightGBM': lgb_model,\n",
        "          'AdaBoost': adb_model}"
      ],
      "execution_count": 0,
      "outputs": []
    },
    {
      "cell_type": "code",
      "metadata": {
        "id": "VneUn0M-sVnN",
        "colab_type": "code",
        "outputId": "d44a9efb-e1ca-45d3-e422-f5d95e129de2",
        "colab": {
          "base_uri": "https://localhost:8080/",
          "height": 232
        }
      },
      "source": [
        "\n",
        "if __name__ == '__main__':\n",
        "    df_result = pd.DataFrame(columns=('Model', 'dataset', 'Accuracy', 'Precision', 'Recall', 'F1 score', 'AUC'))\n",
        "    row = 0\n",
        "    fprs_train = []\n",
        "    tprs_train = []\n",
        "    aucs_train = []\n",
        "    fprs_test = []\n",
        "    tprs_test = []\n",
        "    aucs_test = []\n",
        "    for name, clf in models.items():\n",
        "        clf.fit(X_train, y_train)\n",
        "        acc, p, r, f1, fpr_train, tpr_train, auc_train = get_metric(clf, X_train, y_train)\n",
        "        fprs_train.append(fpr_train)\n",
        "        tprs_train.append(tpr_train)\n",
        "        aucs_train.append(auc_train)\n",
        "        df_result.loc[row] = [name, 'train', acc, p, r, f1, auc_train]\n",
        "        row += 1\n",
        "\n",
        "        acc, p, r, f1, fpr_test, tpr_test, auc_test = get_metric(clf, X_test, y_test)\n",
        "        fprs_test.append(fpr_test)\n",
        "        tprs_test.append(tpr_test)\n",
        "        aucs_test.append(auc_test)\n",
        "        df_result.loc[row] = [name, 'test', acc, p, r, f1, auc_test]\n",
        "        row += 1\n",
        "\n",
        "        plt.figure()\n",
        "        lw = 2\n",
        "        plt.plot(fpr_train, tpr_train, color='darkorange', lw=lw, label='train (AUC:%0.2f)' % auc_train)\n",
        "        plt.plot(fpr_test, tpr_test, color='cornflowerblue', lw=lw, label='test (AUC:%0.2f)' % auc_test)\n",
        "        plt.plot([0, 1], [0, 1], color='navy', lw=lw, linestyle='--')\n",
        "        plt.xlim([0.0, 1.0])\n",
        "        plt.ylim([0.0, 1.05])\n",
        "        plt.xlabel('False Positive Rate')\n",
        "        plt.ylabel('True Positive Rate')\n",
        "        plt.title('Receiver operating characteristic of '+name)\n",
        "        plt.legend(loc=\"lower right\")\n",
        "        plt.savefig(name + '.jpg')\n",
        "        plt.show()"
      ],
      "execution_count": 0,
      "outputs": [
        {
          "output_type": "error",
          "ename": "NameError",
          "evalue": "ignored",
          "traceback": [
            "\u001b[0;31m---------------------------------------------------------------------------\u001b[0m",
            "\u001b[0;31mNameError\u001b[0m                                 Traceback (most recent call last)",
            "\u001b[0;32m<ipython-input-6-0aba4452f196>\u001b[0m in \u001b[0;36m<module>\u001b[0;34m()\u001b[0m\n\u001b[1;32m     10\u001b[0m     \u001b[0maucs_test\u001b[0m \u001b[0;34m=\u001b[0m \u001b[0;34m[\u001b[0m\u001b[0;34m]\u001b[0m\u001b[0;34m\u001b[0m\u001b[0;34m\u001b[0m\u001b[0m\n\u001b[1;32m     11\u001b[0m     \u001b[0;32mfor\u001b[0m \u001b[0mname\u001b[0m\u001b[0;34m,\u001b[0m \u001b[0mclf\u001b[0m \u001b[0;32min\u001b[0m \u001b[0mmodels\u001b[0m\u001b[0;34m.\u001b[0m\u001b[0mitems\u001b[0m\u001b[0;34m(\u001b[0m\u001b[0;34m)\u001b[0m\u001b[0;34m:\u001b[0m\u001b[0;34m\u001b[0m\u001b[0;34m\u001b[0m\u001b[0m\n\u001b[0;32m---> 12\u001b[0;31m         \u001b[0mclf\u001b[0m\u001b[0;34m.\u001b[0m\u001b[0mfit\u001b[0m\u001b[0;34m(\u001b[0m\u001b[0mX_train\u001b[0m\u001b[0;34m,\u001b[0m \u001b[0my_train\u001b[0m\u001b[0;34m)\u001b[0m\u001b[0;34m\u001b[0m\u001b[0;34m\u001b[0m\u001b[0m\n\u001b[0m\u001b[1;32m     13\u001b[0m         \u001b[0macc\u001b[0m\u001b[0;34m,\u001b[0m \u001b[0mp\u001b[0m\u001b[0;34m,\u001b[0m \u001b[0mr\u001b[0m\u001b[0;34m,\u001b[0m \u001b[0mf1\u001b[0m\u001b[0;34m,\u001b[0m \u001b[0mfpr_train\u001b[0m\u001b[0;34m,\u001b[0m \u001b[0mtpr_train\u001b[0m\u001b[0;34m,\u001b[0m \u001b[0mauc_train\u001b[0m \u001b[0;34m=\u001b[0m \u001b[0mget_metric\u001b[0m\u001b[0;34m(\u001b[0m\u001b[0mclf\u001b[0m\u001b[0;34m,\u001b[0m \u001b[0mX_train\u001b[0m\u001b[0;34m,\u001b[0m \u001b[0my_train\u001b[0m\u001b[0;34m)\u001b[0m\u001b[0;34m\u001b[0m\u001b[0;34m\u001b[0m\u001b[0m\n\u001b[1;32m     14\u001b[0m         \u001b[0mfprs_train\u001b[0m\u001b[0;34m.\u001b[0m\u001b[0mappend\u001b[0m\u001b[0;34m(\u001b[0m\u001b[0mfpr_train\u001b[0m\u001b[0;34m)\u001b[0m\u001b[0;34m\u001b[0m\u001b[0;34m\u001b[0m\u001b[0m\n",
            "\u001b[0;31mNameError\u001b[0m: name 'X_train' is not defined"
          ]
        }
      ]
    },
    {
      "cell_type": "code",
      "metadata": {
        "id": "0ijptte9tz-4",
        "colab_type": "code",
        "outputId": "e8e269fd-f5c5-49d6-af60-bdfb308e3067",
        "colab": {
          "base_uri": "https://localhost:8080/",
          "height": 573
        }
      },
      "source": [
        "# integrate roc curve into one figure\n",
        "def plot_roc(fprs, tprs, aucs, title):\n",
        "    plt.figure()\n",
        "    lw = 2\n",
        "    colors = ['deeppink', 'aqua', 'darkorange', 'cornflowerblue', '']\n",
        "    for i, name in enumerate(models):\n",
        "        plt.plot(fprs[i], tprs[i], lw=lw,\n",
        "                 label='{0} (AUC:{1:0.2f})'.format(name, aucs[i]))\n",
        "    plt.plot([0, 1], [0, 1], color='navy', lw=lw, linestyle='--')\n",
        "    plt.xlim([0.0, 1.0])\n",
        "    plt.ylim([0.0, 1.05])\n",
        "    plt.xlabel('False Positive Rate')\n",
        "    plt.ylabel('True Positive Rate')\n",
        "    plt.title('Receiver operating characteristic of '+title)\n",
        "    plt.legend(loc=\"lower right\")\n",
        "    plt.savefig(title + '.jpg')\n",
        "    plt.show()\n",
        "\n",
        "plot_roc(fprs_train, tprs_train, aucs_train, 'train')\n",
        "plot_roc(fprs_test, tprs_test, aucs_test, 'test')"
      ],
      "execution_count": 0,
      "outputs": [
        {
          "output_type": "display_data",
          "data": {
            "image/png": "[encoded data removed]",
            "text/plain": [
              "<Figure size 432x288 with 1 Axes>"
            ]
          },
          "metadata": {
            "tags": [],
            "needs_background": "light"
          }
        },
        {
          "output_type": "display_data",
          "data": {
            "image/png": "[encoded data removed]",
            "text/plain": [
              "<Figure size 432x288 with 1 Axes>"
            ]
          },
          "metadata": {
            "tags": [],
            "needs_background": "light"
          }
        }
      ]
    }
  ]
}